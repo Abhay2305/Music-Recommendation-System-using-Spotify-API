{
  "nbformat": 4,
  "nbformat_minor": 0,
  "metadata": {
    "colab": {
      "provenance": []
    },
    "kernelspec": {
      "name": "python3",
      "display_name": "Python 3"
    },
    "language_info": {
      "name": "python"
    }
  },
  "cells": [
    {
      "cell_type": "code",
      "execution_count": 8,
      "metadata": {
        "id": "gVbl1ufuR3u2"
      },
      "outputs": [],
      "source": [
        "import requests\n",
        "import base64"
      ]
    },
    {
      "cell_type": "code",
      "source": [
        "# Replace with Client ID and Client Secret\n",
        "CLIENT_ID = 'abf2a45d374740248c68ede34b5d5bed'\n",
        "CLIENT_SECRET = '616a6412f0684aadb3f412197dfcbc15'"
      ],
      "metadata": {
        "id": "lJLR-pkfR9fY"
      },
      "execution_count": 9,
      "outputs": []
    },
    {
      "cell_type": "code",
      "source": [
        " #Base64 encode the client ID and client secret\n",
        "\n",
        "client_credentials = f\"{CLIENT_ID}:{CLIENT_SECRET}\"\n",
        "client_credentials_base64 = base64.b64encode(client_credentials.encode())"
      ],
      "metadata": {
        "id": "uXCqs-eqSTFB"
      },
      "execution_count": 10,
      "outputs": []
    },
    {
      "cell_type": "code",
      "source": [
        "import pandas as pd\n",
        "import spotipy\n",
        "from spotipy.oauth2 import SpotifyOAuth\n"
      ],
      "metadata": {
        "id": "zB41vLEnTY-A"
      },
      "execution_count": 11,
      "outputs": []
    },
    {
      "cell_type": "code",
      "source": [
        "# Request the access token\n",
        "token_url = 'https://accounts.spotify.com/api/token'\n",
        "headers = {\n",
        "    'Authorization': f'Basic {client_credentials_base64.decode()}'\n",
        "}\n",
        "data = {\n",
        "    'grant_type': 'client_credentials'\n",
        "}\n",
        "response = requests.post(token_url, data=data, headers=headers)\n",
        "\n",
        "if response.status_code == 200:\n",
        "    access_token = response.json()['access_token']\n",
        "    print(\"Access token obtained successfully.\")\n",
        "else:\n",
        "    print(\"Error obtaining access token.\")\n",
        "    exit()"
      ],
      "metadata": {
        "colab": {
          "base_uri": "https://localhost:8080/"
        },
        "id": "yJMXUNDtSxCE",
        "outputId": "ced47e38-35d5-4c39-c27c-b949ca0bc74a"
      },
      "execution_count": 12,
      "outputs": [
        {
          "output_type": "stream",
          "name": "stdout",
          "text": [
            "Access token obtained successfully.\n"
          ]
        }
      ]
    },
    {
      "cell_type": "code",
      "source": [
        "!pip install spotipy"
      ],
      "metadata": {
        "colab": {
          "base_uri": "https://localhost:8080/"
        },
        "id": "M1BXYADPWfVs",
        "outputId": "c1de2c99-69bc-4e62-a563-fc321fa97844"
      },
      "execution_count": 2,
      "outputs": [
        {
          "output_type": "stream",
          "name": "stdout",
          "text": [
            "Collecting spotipy\n",
            "  Downloading spotipy-2.23.0-py3-none-any.whl (29 kB)\n",
            "Collecting redis>=3.5.3 (from spotipy)\n",
            "  Downloading redis-5.0.4-py3-none-any.whl (251 kB)\n",
            "\u001b[2K     \u001b[90m━━━━━━━━━━━━━━━━━━━━━━━━━━━━━━━━━━━━━━━━\u001b[0m \u001b[32m252.0/252.0 kB\u001b[0m \u001b[31m6.4 MB/s\u001b[0m eta \u001b[36m0:00:00\u001b[0m\n",
            "\u001b[?25hRequirement already satisfied: requests>=2.25.0 in /usr/local/lib/python3.10/dist-packages (from spotipy) (2.31.0)\n",
            "Requirement already satisfied: six>=1.15.0 in /usr/local/lib/python3.10/dist-packages (from spotipy) (1.16.0)\n",
            "Requirement already satisfied: urllib3>=1.26.0 in /usr/local/lib/python3.10/dist-packages (from spotipy) (2.0.7)\n",
            "Requirement already satisfied: async-timeout>=4.0.3 in /usr/local/lib/python3.10/dist-packages (from redis>=3.5.3->spotipy) (4.0.3)\n",
            "Requirement already satisfied: charset-normalizer<4,>=2 in /usr/local/lib/python3.10/dist-packages (from requests>=2.25.0->spotipy) (3.3.2)\n",
            "Requirement already satisfied: idna<4,>=2.5 in /usr/local/lib/python3.10/dist-packages (from requests>=2.25.0->spotipy) (3.7)\n",
            "Requirement already satisfied: certifi>=2017.4.17 in /usr/local/lib/python3.10/dist-packages (from requests>=2.25.0->spotipy) (2024.2.2)\n",
            "Installing collected packages: redis, spotipy\n",
            "Successfully installed redis-5.0.4 spotipy-2.23.0\n"
          ]
        }
      ]
    },
    {
      "cell_type": "code",
      "source": [
        "import pandas as pd\n",
        "import spotipy\n",
        "from spotipy.oauth2 import SpotifyOAuth"
      ],
      "metadata": {
        "id": "vMCAWZBAWgNW"
      },
      "execution_count": 13,
      "outputs": []
    },
    {
      "cell_type": "code",
      "source": [
        "def get_trending_playlist_data(playlist_id, access_token):\n",
        "    # Set up Spotipy with the access token\n",
        "    sp = spotipy.Spotify(auth=access_token)\n",
        "\n",
        "    # Get the tracks from the playlist\n",
        "    playlist_tracks = sp.playlist_tracks(playlist_id, fields='items(track(id, name, artists, album(id, name)))')\n",
        "\n",
        "    # Extract relevant information and store in a list of dictionaries\n",
        "    music_data = []\n",
        "    for track_info in playlist_tracks['items']:\n",
        "        track = track_info['track']\n",
        "        track_name = track['name']\n",
        "        artists = ', '.join([artist['name'] for artist in track['artists']])\n",
        "        album_name = track['album']['name']\n",
        "        album_id = track['album']['id']\n",
        "        track_id = track['id']\n",
        "\n",
        "        # Get audio features for the track\n",
        "        audio_features = sp.audio_features(track_id)[0] if track_id != 'Not available' else None\n",
        "\n",
        "        # Get release date of the album\n",
        "        try:\n",
        "            album_info = sp.album(album_id) if album_id != 'Not available' else None\n",
        "            release_date = album_info['release_date'] if album_info else None\n",
        "        except:\n",
        "            release_date = None\n",
        "\n",
        "        # Get popularity of the track\n",
        "        try:\n",
        "            track_info = sp.track(track_id) if track_id != 'Not available' else None\n",
        "            popularity = track_info['popularity'] if track_info else None\n",
        "        except:\n",
        "            popularity = None\n",
        "\n",
        "        # Add additional track information to the track data\n",
        "        track_data = {\n",
        "            'Track Name': track_name,\n",
        "            'Artists': artists,\n",
        "            'Album Name': album_name,\n",
        "            'Album ID': album_id,\n",
        "            'Track ID': track_id,\n",
        "            'Popularity': popularity,\n",
        "            'Release Date': release_date,\n",
        "            'Duration (ms)': audio_features['duration_ms'] if audio_features else None,\n",
        "            'Explicit': track_info.get('explicit', None),\n",
        "            'External URLs': track_info.get('external_urls', {}).get('spotify', None),\n",
        "            'Danceability': audio_features['danceability'] if audio_features else None,\n",
        "            'Energy': audio_features['energy'] if audio_features else None,\n",
        "            'Key': audio_features['key'] if audio_features else None,\n",
        "            'Loudness': audio_features['loudness'] if audio_features else None,\n",
        "            'Mode': audio_features['mode'] if audio_features else None,\n",
        "            'Speechiness': audio_features['speechiness'] if audio_features else None,\n",
        "            'Acousticness': audio_features['acousticness'] if audio_features else None,\n",
        "            'Instrumentalness': audio_features['instrumentalness'] if audio_features else None,\n",
        "            'Liveness': audio_features['liveness'] if audio_features else None,\n",
        "            'Valence': audio_features['valence'] if audio_features else None,\n",
        "            'Tempo': audio_features['tempo'] if audio_features else None,\n",
        "            # Add more attributes as needed\n",
        "        }\n",
        "\n",
        "        music_data.append(track_data)\n",
        "\n",
        "    # Create a pandas DataFrame from the list of dictionaries\n",
        "    df = pd.DataFrame(music_data)\n",
        "\n",
        "    return df"
      ],
      "metadata": {
        "id": "6mN-T_cWWloD"
      },
      "execution_count": 14,
      "outputs": []
    },
    {
      "cell_type": "code",
      "source": [
        "playlist_id = '37i9dQZF1DX76Wlfdnj7AP'\n",
        "\n",
        "# Call the function to get the music data from the playlist and store it in a DataFrame\n",
        "music_df = get_trending_playlist_data(playlist_id, access_token)\n",
        "\n",
        "# Display the DataFrame\n",
        "print(music_df)"
      ],
      "metadata": {
        "colab": {
          "base_uri": "https://localhost:8080/"
        },
        "id": "TYTtOF7jnTPz",
        "outputId": "c47c9cf2-fc13-4273-9f5d-eca457279d81"
      },
      "execution_count": 15,
      "outputs": [
        {
          "output_type": "stream",
          "name": "stdout",
          "text": [
            "                           Track Name  \\\n",
            "0                         Not Like Us   \n",
            "1                            CARNIVAL   \n",
            "2                               Pedro   \n",
            "3                           Type Shit   \n",
            "4                  Tell Ur Girlfriend   \n",
            "..                                ...   \n",
            "95  family ties (with Kendrick Lamar)   \n",
            "96                         SUPERMODEL   \n",
            "97                           stayinit   \n",
            "98                               RIZZ   \n",
            "99                             LOKERA   \n",
            "\n",
            "                                              Artists  \\\n",
            "0                                      Kendrick Lamar   \n",
            "1   ¥$, Kanye West, Ty Dolla $ign, Rich The Kid, P...   \n",
            "2             Jaxomy, Agatino Romero, Raffaella Carrà   \n",
            "3   Future, Metro Boomin, Travis Scott, Playboi Carti   \n",
            "4                                           Lay Bankz   \n",
            "..                                                ...   \n",
            "95                          Baby Keem, Kendrick Lamar   \n",
            "96                                           Måneskin   \n",
            "97                 Fred again.., Lil Yachty, Overmono   \n",
            "98                                              AYYBO   \n",
            "99                      Rauw Alejandro, Lyanno, Brray   \n",
            "\n",
            "                           Album Name                Album ID  \\\n",
            "0                         Not Like Us  5JjnoGJyOxfSZUZtk2rRwZ   \n",
            "1                          VULTURES 1  30zwjSQEodaUXCn11nmiVF   \n",
            "2                               Pedro  5y6RXjI5VPR0RyInghTbf1   \n",
            "3                  WE DON'T TRUST YOU  4iqbFIdGOTzXeDtt9owjQn   \n",
            "4                  Tell Ur Girlfriend  0S8DGX9LmBkRSVi3ywcCOT   \n",
            "..                                ...                     ...   \n",
            "95  family ties (with Kendrick Lamar)  3HqmX8hGcbbQZODgayNEYx   \n",
            "96                         SUPERMODEL  5jhbLeXH1a3SRSOg84GSUn   \n",
            "97                           stayinit  0DeGmYq33W6Svw1eTgnxDF   \n",
            "98                               RIZZ  6uH0vo25qVqNveP02Pr4Uc   \n",
            "99                             LOKERA  4vJcqwIGUuk5TeP29OPovU   \n",
            "\n",
            "                  Track ID  Popularity Release Date  Duration (ms)  Explicit  \\\n",
            "0   6AI3ezQ4o3HUoP6Dhudph3          98   2024-05-04         274192      True   \n",
            "1   3w0w2T288dec0mgeZZqoNN          92   2024-02-09         264324      True   \n",
            "2   48lxT5qJF0yYyf2z4wB4xW          91   2024-03-29         144846     False   \n",
            "3   28drn6tQo95MRvO0jQEo5C          91   2024-03-22         228267      True   \n",
            "4   3lMzT16MjAKKXF7pSZn13B          91   2024-02-07         124444      True   \n",
            "..                     ...         ...          ...            ...       ...   \n",
            "95  7Bpx2vsWfQFBACRz4h3IqH          70   2021-08-27         252070      True   \n",
            "96  63WuQOXohQIxOxIFA2K7bR          70   2022-05-13         148064     False   \n",
            "97  6WS2TcsMEGOFtveWbtbuwZ          70   2024-02-28         274925     False   \n",
            "98  3DqOJ2BoddzZpNdty3okJH          70   2023-11-15         200787      True   \n",
            "99  79HZAZNnOE97rb2hnI0XQr          70   2022-07-25         197101      True   \n",
            "\n",
            "                                        External URLs  ...  Energy  Key  \\\n",
            "0   https://open.spotify.com/track/6AI3ezQ4o3HUoP6...  ...   0.472    1   \n",
            "1   https://open.spotify.com/track/3w0w2T288dec0mg...  ...   0.811    1   \n",
            "2   https://open.spotify.com/track/48lxT5qJF0yYyf2...  ...   0.936    9   \n",
            "3   https://open.spotify.com/track/28drn6tQo95MRvO...  ...   0.552    2   \n",
            "4   https://open.spotify.com/track/3lMzT16MjAKKXF7...  ...   0.741    7   \n",
            "..                                                ...  ...     ...  ...   \n",
            "95  https://open.spotify.com/track/7Bpx2vsWfQFBACR...  ...   0.611    1   \n",
            "96  https://open.spotify.com/track/63WuQOXohQIxOxI...  ...   0.876    7   \n",
            "97  https://open.spotify.com/track/6WS2TcsMEGOFtve...  ...   0.755    7   \n",
            "98  https://open.spotify.com/track/3DqOJ2BoddzZpNd...  ...   0.839    7   \n",
            "99  https://open.spotify.com/track/79HZAZNnOE97rb2...  ...   0.826   11   \n",
            "\n",
            "    Loudness  Mode  Speechiness  Acousticness  Instrumentalness  Liveness  \\\n",
            "0     -7.001     1       0.0776       0.01070          0.000000    0.1410   \n",
            "1     -5.746     1       0.1590       0.18900          0.000000    0.3390   \n",
            "2     -6.294     1       0.3010       0.02290          0.000001    0.3110   \n",
            "3     -5.679     1       0.1290       0.02150          0.000000    0.1190   \n",
            "4     -4.660     1       0.2450       0.09330          0.000000    0.0297   \n",
            "..       ...   ...          ...           ...               ...       ...   \n",
            "95    -5.453     1       0.3290       0.00575          0.000000    0.2310   \n",
            "96    -3.413     1       0.0555       0.00164          0.000000    0.1170   \n",
            "97    -6.502     0       0.1220       0.00300          0.005110    0.2440   \n",
            "98    -5.733     1       0.1530       0.07360          0.426000    0.3200   \n",
            "99    -2.660     0       0.0461       0.21300          0.000006    0.0814   \n",
            "\n",
            "    Valence    Tempo  \n",
            "0     0.214  101.061  \n",
            "1     0.311  148.144  \n",
            "2     0.844  151.019  \n",
            "3     0.112  144.941  \n",
            "4     0.614  135.070  \n",
            "..      ...      ...  \n",
            "95    0.144  134.140  \n",
            "96    0.799  120.983  \n",
            "97    0.132  134.082  \n",
            "98    0.729  127.044  \n",
            "99    0.579  102.025  \n",
            "\n",
            "[100 rows x 21 columns]\n"
          ]
        }
      ]
    },
    {
      "cell_type": "code",
      "source": [
        "print(music_df.isnull().sum())"
      ],
      "metadata": {
        "colab": {
          "base_uri": "https://localhost:8080/"
        },
        "id": "zjaZSK6znXWC",
        "outputId": "1615ba3b-f728-4c08-bafd-87c7784e57e6"
      },
      "execution_count": 16,
      "outputs": [
        {
          "output_type": "stream",
          "name": "stdout",
          "text": [
            "Track Name          0\n",
            "Artists             0\n",
            "Album Name          0\n",
            "Album ID            0\n",
            "Track ID            0\n",
            "Popularity          0\n",
            "Release Date        0\n",
            "Duration (ms)       0\n",
            "Explicit            0\n",
            "External URLs       0\n",
            "Danceability        0\n",
            "Energy              0\n",
            "Key                 0\n",
            "Loudness            0\n",
            "Mode                0\n",
            "Speechiness         0\n",
            "Acousticness        0\n",
            "Instrumentalness    0\n",
            "Liveness            0\n",
            "Valence             0\n",
            "Tempo               0\n",
            "dtype: int64\n"
          ]
        }
      ]
    },
    {
      "cell_type": "code",
      "source": [
        "import numpy as np\n",
        "from sklearn.model_selection import train_test_split\n",
        "from sklearn.preprocessing import MinMaxScaler\n",
        "from datetime import datetime\n",
        "from sklearn.metrics.pairwise import cosine_similarity\n",
        "\n",
        "data = music_df"
      ],
      "metadata": {
        "id": "7cCi9R6Xp9Zz"
      },
      "execution_count": 17,
      "outputs": []
    },
    {
      "cell_type": "code",
      "source": [
        "# Function to calculate weighted popularity scores based on release date\n",
        "def calculate_weighted_popularity(release_date):\n",
        "    # Convert the release date to datetime object\n",
        "    release_date = datetime.strptime(release_date, '%Y-%m-%d')\n",
        "\n",
        "    # Calculate the time span between release date and today's date\n",
        "    time_span = datetime.now() - release_date\n",
        "\n",
        "    # Calculate the weighted popularity score based on time span (e.g., more recent releases have higher weight)\n",
        "    weight = 1 / (time_span.days + 1)\n",
        "    return weight"
      ],
      "metadata": {
        "id": "SzJo3UW5qBwK"
      },
      "execution_count": 18,
      "outputs": []
    },
    {
      "cell_type": "code",
      "source": [
        "# Normalize the music features using Min-Max scaling\n",
        "scaler = MinMaxScaler()\n",
        "music_features = music_df[['Danceability', 'Energy', 'Key',\n",
        "                           'Loudness', 'Mode', 'Speechiness', 'Acousticness',\n",
        "                           'Instrumentalness', 'Liveness', 'Valence', 'Tempo']].values\n",
        "music_features_scaled = scaler.fit_transform(music_features)"
      ],
      "metadata": {
        "id": "oYyS1FSxqE8h"
      },
      "execution_count": 19,
      "outputs": []
    },
    {
      "cell_type": "code",
      "source": [
        "# a function to get content-based recommendations based on music features\n",
        "def content_based_recommendations(input_song_name, num_recommendations=5):\n",
        "    if input_song_name not in music_df['Track Name'].values:\n",
        "        print(f\"'{input_song_name}' not found in the dataset. Please enter a valid song name.\")\n",
        "        return\n",
        "\n",
        "    # Get the index of the input song in the music DataFrame\n",
        "    input_song_index = music_df[music_df['Track Name'] == input_song_name].index[0]\n",
        "\n",
        "    # Calculate the similarity scores based on music features (cosine similarity)\n",
        "    similarity_scores = cosine_similarity([music_features_scaled[input_song_index]], music_features_scaled)\n",
        "\n",
        "    # Get the indices of the most similar songs\n",
        "    similar_song_indices = similarity_scores.argsort()[0][::-1][1:num_recommendations + 1]\n",
        "\n",
        "    # Get the names of the most similar songs based on content-based filtering\n",
        "    content_based_recommendations = music_df.iloc[similar_song_indices][['Track Name', 'Artists', 'Album Name', 'Release Date', 'Popularity']]\n",
        "\n",
        "    return content_based_recommendations"
      ],
      "metadata": {
        "id": "aarWGbyfqIHq"
      },
      "execution_count": 20,
      "outputs": []
    },
    {
      "cell_type": "code",
      "source": [
        "# a function to get hybrid recommendations based on weighted popularity\n",
        "def hybrid_recommendations(input_song_name, num_recommendations=5, alpha=0.5):\n",
        "    if input_song_name not in music_df['Track Name'].values:\n",
        "        print(f\"'{input_song_name}' not found in the dataset. Please enter a valid song name.\")\n",
        "        return\n",
        "\n",
        "    # Get content-based recommendations\n",
        "    content_based_rec = content_based_recommendations(input_song_name, num_recommendations)\n",
        "\n",
        "    # Get the popularity score of the input song\n",
        "    popularity_score = music_df.loc[music_df['Track Name'] == input_song_name, 'Popularity'].values[0]\n",
        "\n",
        "    # Calculate the weighted popularity score\n",
        "    weighted_popularity_score = popularity_score * calculate_weighted_popularity(music_df.loc[music_df['Track Name'] == input_song_name, 'Release Date'].values[0])\n",
        "\n",
        "    # Combine content-based and popularity-based recommendations based on weighted popularity\n",
        "    hybrid_recommendations = content_based_rec\n",
        "    hybrid_recommendations = hybrid_recommendations.append({\n",
        "        'Track Name': input_song_name,\n",
        "        'Artists': music_df.loc[music_df['Track Name'] == input_song_name, 'Artists'].values[0],\n",
        "        'Album Name': music_df.loc[music_df['Track Name'] == input_song_name, 'Album Name'].values[0],\n",
        "        'Release Date': music_df.loc[music_df['Track Name'] == input_song_name, 'Release Date'].values[0],\n",
        "        'Popularity': weighted_popularity_score\n",
        "    }, ignore_index=True)\n",
        "\n",
        "    # Sort the hybrid recommendations based on weighted popularity score\n",
        "    hybrid_recommendations = hybrid_recommendations.sort_values(by='Popularity', ascending=False)\n",
        "\n",
        "    # Remove the input song from the recommendations\n",
        "    hybrid_recommendations = hybrid_recommendations[hybrid_recommendations['Track Name'] != input_song_name]\n",
        "\n",
        "\n",
        "    return hybrid_recommendations"
      ],
      "metadata": {
        "id": "oSFILHzqqLFB"
      },
      "execution_count": 21,
      "outputs": []
    },
    {
      "cell_type": "code",
      "source": [
        "input_song_name = \"I'm Good (Blue)\"\n",
        "recommendations = hybrid_recommendations(input_song_name, num_recommendations=5)\n",
        "print(f\"Hybrid recommended songs for '{input_song_name}':\")\n",
        "print(recommendations)"
      ],
      "metadata": {
        "colab": {
          "base_uri": "https://localhost:8080/",
          "height": 373
        },
        "id": "owc6-6gTqOCb",
        "outputId": "4f5eede5-e1a2-4482-8aac-c3af67a151e9"
      },
      "execution_count": 22,
      "outputs": [
        {
          "output_type": "error",
          "ename": "AttributeError",
          "evalue": "'DataFrame' object has no attribute 'append'",
          "traceback": [
            "\u001b[0;31m---------------------------------------------------------------------------\u001b[0m",
            "\u001b[0;31mAttributeError\u001b[0m                            Traceback (most recent call last)",
            "\u001b[0;32m<ipython-input-22-70cad8ce5079>\u001b[0m in \u001b[0;36m<cell line: 2>\u001b[0;34m()\u001b[0m\n\u001b[1;32m      1\u001b[0m \u001b[0minput_song_name\u001b[0m \u001b[0;34m=\u001b[0m \u001b[0;34m\"I'm Good (Blue)\"\u001b[0m\u001b[0;34m\u001b[0m\u001b[0;34m\u001b[0m\u001b[0m\n\u001b[0;32m----> 2\u001b[0;31m \u001b[0mrecommendations\u001b[0m \u001b[0;34m=\u001b[0m \u001b[0mhybrid_recommendations\u001b[0m\u001b[0;34m(\u001b[0m\u001b[0minput_song_name\u001b[0m\u001b[0;34m,\u001b[0m \u001b[0mnum_recommendations\u001b[0m\u001b[0;34m=\u001b[0m\u001b[0;36m5\u001b[0m\u001b[0;34m)\u001b[0m\u001b[0;34m\u001b[0m\u001b[0;34m\u001b[0m\u001b[0m\n\u001b[0m\u001b[1;32m      3\u001b[0m \u001b[0mprint\u001b[0m\u001b[0;34m(\u001b[0m\u001b[0;34mf\"Hybrid recommended songs for '{input_song_name}':\"\u001b[0m\u001b[0;34m)\u001b[0m\u001b[0;34m\u001b[0m\u001b[0;34m\u001b[0m\u001b[0m\n\u001b[1;32m      4\u001b[0m \u001b[0mprint\u001b[0m\u001b[0;34m(\u001b[0m\u001b[0mrecommendations\u001b[0m\u001b[0;34m)\u001b[0m\u001b[0;34m\u001b[0m\u001b[0;34m\u001b[0m\u001b[0m\n",
            "\u001b[0;32m<ipython-input-21-3de633f34e34>\u001b[0m in \u001b[0;36mhybrid_recommendations\u001b[0;34m(input_song_name, num_recommendations, alpha)\u001b[0m\n\u001b[1;32m     16\u001b[0m     \u001b[0;31m# Combine content-based and popularity-based recommendations based on weighted popularity\u001b[0m\u001b[0;34m\u001b[0m\u001b[0;34m\u001b[0m\u001b[0m\n\u001b[1;32m     17\u001b[0m     \u001b[0mhybrid_recommendations\u001b[0m \u001b[0;34m=\u001b[0m \u001b[0mcontent_based_rec\u001b[0m\u001b[0;34m\u001b[0m\u001b[0;34m\u001b[0m\u001b[0m\n\u001b[0;32m---> 18\u001b[0;31m     hybrid_recommendations = hybrid_recommendations.append({\n\u001b[0m\u001b[1;32m     19\u001b[0m         \u001b[0;34m'Track Name'\u001b[0m\u001b[0;34m:\u001b[0m \u001b[0minput_song_name\u001b[0m\u001b[0;34m,\u001b[0m\u001b[0;34m\u001b[0m\u001b[0;34m\u001b[0m\u001b[0m\n\u001b[1;32m     20\u001b[0m         \u001b[0;34m'Artists'\u001b[0m\u001b[0;34m:\u001b[0m \u001b[0mmusic_df\u001b[0m\u001b[0;34m.\u001b[0m\u001b[0mloc\u001b[0m\u001b[0;34m[\u001b[0m\u001b[0mmusic_df\u001b[0m\u001b[0;34m[\u001b[0m\u001b[0;34m'Track Name'\u001b[0m\u001b[0;34m]\u001b[0m \u001b[0;34m==\u001b[0m \u001b[0minput_song_name\u001b[0m\u001b[0;34m,\u001b[0m \u001b[0;34m'Artists'\u001b[0m\u001b[0;34m]\u001b[0m\u001b[0;34m.\u001b[0m\u001b[0mvalues\u001b[0m\u001b[0;34m[\u001b[0m\u001b[0;36m0\u001b[0m\u001b[0;34m]\u001b[0m\u001b[0;34m,\u001b[0m\u001b[0;34m\u001b[0m\u001b[0;34m\u001b[0m\u001b[0m\n",
            "\u001b[0;32m/usr/local/lib/python3.10/dist-packages/pandas/core/generic.py\u001b[0m in \u001b[0;36m__getattr__\u001b[0;34m(self, name)\u001b[0m\n\u001b[1;32m   5987\u001b[0m         ):\n\u001b[1;32m   5988\u001b[0m             \u001b[0;32mreturn\u001b[0m \u001b[0mself\u001b[0m\u001b[0;34m[\u001b[0m\u001b[0mname\u001b[0m\u001b[0;34m]\u001b[0m\u001b[0;34m\u001b[0m\u001b[0;34m\u001b[0m\u001b[0m\n\u001b[0;32m-> 5989\u001b[0;31m         \u001b[0;32mreturn\u001b[0m \u001b[0mobject\u001b[0m\u001b[0;34m.\u001b[0m\u001b[0m__getattribute__\u001b[0m\u001b[0;34m(\u001b[0m\u001b[0mself\u001b[0m\u001b[0;34m,\u001b[0m \u001b[0mname\u001b[0m\u001b[0;34m)\u001b[0m\u001b[0;34m\u001b[0m\u001b[0;34m\u001b[0m\u001b[0m\n\u001b[0m\u001b[1;32m   5990\u001b[0m \u001b[0;34m\u001b[0m\u001b[0m\n\u001b[1;32m   5991\u001b[0m     \u001b[0;32mdef\u001b[0m \u001b[0m__setattr__\u001b[0m\u001b[0;34m(\u001b[0m\u001b[0mself\u001b[0m\u001b[0;34m,\u001b[0m \u001b[0mname\u001b[0m\u001b[0;34m:\u001b[0m \u001b[0mstr\u001b[0m\u001b[0;34m,\u001b[0m \u001b[0mvalue\u001b[0m\u001b[0;34m)\u001b[0m \u001b[0;34m->\u001b[0m \u001b[0;32mNone\u001b[0m\u001b[0;34m:\u001b[0m\u001b[0;34m\u001b[0m\u001b[0;34m\u001b[0m\u001b[0m\n",
            "\u001b[0;31mAttributeError\u001b[0m: 'DataFrame' object has no attribute 'append'"
          ]
        }
      ]
    },
    {
      "cell_type": "code",
      "source": [],
      "metadata": {
        "id": "wsxN3onAqQrV"
      },
      "execution_count": null,
      "outputs": []
    }
  ]
}